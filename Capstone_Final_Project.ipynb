{
 "cells": [
  {
   "cell_type": "markdown",
   "metadata": {},
   "source": [
    "# Introduction and Business Problem"
   ]
  },
  {
   "cell_type": "markdown",
   "metadata": {},
   "source": [
    "## Introduction"
   ]
  },
  {
   "cell_type": "markdown",
   "metadata": {},
   "source": [
    "As an international student, schooling at in Huntington, West Virginia has been fun and exciting but there was one problem. I had issues looking for the best restaurants around. It can be difficult finding restaurants that are worth going to and where they are since I am new in the environment. "
   ]
  },
  {
   "cell_type": "markdown",
   "metadata": {},
   "source": [
    "## Business Problem"
   ]
  },
  {
   "cell_type": "markdown",
   "metadata": {},
   "source": [
    "For this project, we will be using Foursquare to create a simple guide on where to eat based on Foursquare categories, likes and geographic location data for the restaurants in Huntington. Using clusters, we will then group similar restaurants based on Foursquare user feedbacks so that students can easily determine which type of restaurant is best for them based on these criteria."
   ]
  },
  {
   "cell_type": "markdown",
   "metadata": {},
   "source": [
    "## Data Requirements"
   ]
  },
  {
   "cell_type": "markdown",
   "metadata": {},
   "source": [
    "For this assignment, I will be utilizing the Foursquare API to pull the following location data on restaurants in Huntington, WV:\n",
    "\n",
    "* Venue Name\n",
    "* Venue ID\n",
    "* Venue Location\n",
    "* Venue Category\n",
    "* Count of Likes"
   ]
  },
  {
   "cell_type": "markdown",
   "metadata": {},
   "source": [
    "## Data Acquisition Approach"
   ]
  },
  {
   "cell_type": "markdown",
   "metadata": {},
   "source": [
    "To acquire the data mentioned above, we will need to do the following:\n",
    "\n",
    "* Get geolocator lat and long coordinates for Huntington, WV\n",
    "* Use Foursquare API to get a list of all venues in Huntington\n",
    "* Get venue name, venue ID, location, category, and likes"
   ]
  },
  {
   "cell_type": "code",
   "execution_count": null,
   "metadata": {},
   "outputs": [],
   "source": []
  }
 ],
 "metadata": {
  "kernelspec": {
   "display_name": "Python",
   "language": "python",
   "name": "conda-env-python-py"
  },
  "language_info": {
   "codemirror_mode": {
    "name": "ipython",
    "version": 3
   },
   "file_extension": ".py",
   "mimetype": "text/x-python",
   "name": "python",
   "nbconvert_exporter": "python",
   "pygments_lexer": "ipython3",
   "version": "3.6.10"
  }
 },
 "nbformat": 4,
 "nbformat_minor": 4
}
